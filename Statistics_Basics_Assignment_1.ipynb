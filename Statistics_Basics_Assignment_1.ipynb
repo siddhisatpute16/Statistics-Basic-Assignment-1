{
  "nbformat": 4,
  "nbformat_minor": 0,
  "metadata": {
    "colab": {
      "provenance": []
    },
    "kernelspec": {
      "name": "python3",
      "display_name": "Python 3"
    },
    "language_info": {
      "name": "python"
    }
  },
  "cells": [
    {
      "cell_type": "markdown",
      "source": [
        "#**Statistics Basics Assignment**"
      ],
      "metadata": {
        "id": "qwGdHnpz40U6"
      }
    },
    {
      "cell_type": "markdown",
      "source": [
        "#**Question 1: What is the difference between descriptive statistics and inferential statistics? Explain with examples.**\n",
        "\n",
        "\n",
        "#**Answer :**\n",
        "\n",
        "- Descriptive and inferential statistics are two foundational branches of statistical analysis, each serving distinct purposes in understanding and interpreting data.\n",
        "\n",
        "---\n",
        "**1. Descriptive Statistics**\n",
        "\n",
        "- **Definition :** Descriptive statistics summarize and describe the main features of a dataset.\n",
        "\n",
        "- **Purpose :** To organize, present, and simplify data so it’s easy to understand.\n",
        "\n",
        "- **Key Characteristics:**\n",
        "\n",
        "  - Focuses on known data.\n",
        "\n",
        "  - Does not make predictions or generalizations.\n",
        "\n",
        "  - Uses numerical and visual tools to present data.\n",
        "\n",
        "- **Common Tools:**\n",
        "\n",
        "  - Measures of central tendency: mean, median, mode.\n",
        "  \n",
        "  - Measures of dispersion: range, variance, standard deviation.\n",
        "  \n",
        "  - Visuals: histograms, pie charts, box plots.\n",
        "\n",
        "- **Example in real life:**\n",
        "\n",
        "  Suppose you collect the exam scores of 50 students in your class. Descriptive statistics would help you:\n",
        "\n",
        "  - Calculate the average score (mean) = 72\n",
        "\n",
        "  - Find the highest and lowest scores (e.g., max = 95, min = 40).\n",
        "\n",
        "  - Visualize the distribution using a histogram.\n",
        "\n",
        "These values describe the dataset but don’t make conclusions about students in other classes.\n",
        "\n",
        "---\n",
        "\n",
        "**2. Inferential Statistics**\n",
        "\n",
        "- **Definition:** Inferential statistics use sample data to make inferences, predictions, or decisions about a larger population.\n",
        "\n",
        "- **Purpose:** To generalize findings beyond the data you collected.\n",
        "\n",
        "- **Key Characteristics:**\n",
        "\n",
        "  - Works with sample data to infer about a larger group.\n",
        "\n",
        "  - Uses probability theory and hypothesis testing.\n",
        "\n",
        "  - Enables decision-making beyond the observed data.\n",
        "\n",
        "- **Common Tools:**\n",
        "\n",
        "  - Hypothesis testing (e.g., t-test, z-test).\n",
        "\n",
        "  - Confidence intervals.\n",
        "\n",
        "  - Regression analysis.\n",
        "\n",
        "  - p-values.\n",
        "\n",
        "- **Examples:**\n",
        "\n",
        "  - Using a sample survey of 1,000 voters to predict election results for the entire country.\n",
        "\n",
        "  - Conducting a hypothesis test to see if a new medicine is more effective than the old one.\n",
        "\n",
        "  - Using regression analysis to predict a person’s weight based on their height.\n",
        "\n",
        "- **Example in real life:**\n",
        "\n",
        "  - If you surveyed 50 students (sample) from your college to find their average exam score = 72,\n",
        "  you might use inferential statistics to estimate the average score of all students in the college (population).  \n",
        "\n",
        "---\n",
        "**Key Difference in One Line:**\n",
        "\n",
        "- Descriptive statistics = describes what the data shows.\n",
        "\n",
        "- Inferential statistics = predicts, infers, or generalizes beyond the given data.\n",
        "  \n",
        "\n",
        "\n",
        "\n",
        "\n",
        "\n",
        "\n",
        "\n"
      ],
      "metadata": {
        "id": "YIuasUcU5DmN"
      }
    },
    {
      "cell_type": "markdown",
      "source": [
        "#**Question 2: What is sampling in statistics? Explain the differences between random and stratified sampling.**\n",
        "\n",
        "#**Answer:**\n",
        "\n",
        "#**Sampling in Statistics**\n",
        "\n",
        "**Definition:** Sampling is the process of selecting a subset (sample) from a larger group (population) so that by studying the sample, we can make conclusions (inferences) about the population.\n",
        "\n",
        "**Reason:** Studying the whole population is often time-consuming, costly, or impractical, so sampling is used.\n",
        "\n",
        "---\n",
        "\n",
        "**Types of Sampling**\n",
        "\n",
        "**1. Random Sampling**\n",
        "\n",
        "**Definition:**\n",
        "\n",
        "- Every member of the population has an equal chance of being selected.\n",
        "\n",
        "**Method:**\n",
        "\n",
        "- Usually done by lottery method, random number tables, or computer-generated random numbers.\n",
        "\n",
        "**Key Features:**\n",
        "\n",
        "- Unbiased and fair.\n",
        "- Requires a complete population list.\n",
        "- Easy to implement with random number generators.\n",
        "\n",
        "**Limitation:**\n",
        "\n",
        "- May not represent subgroups well, especially if population is diverse.\n",
        "\n",
        "**Example:**\n",
        "\n",
        "- Choosing 50 students randomly from a list of 500 students using a random number generator.\n",
        "\n",
        "---\n",
        "**2. Stratified Sampling**\n",
        "\n",
        "**Definition:**\n",
        "\n",
        "- The population is first divided into homogeneous subgroups (strata) based on a shared characteristics (e.g., gender, age, income group), then random samples are taken from each stratum in proportion to its size.\n",
        "\n",
        "**Key Features:**\n",
        "\n",
        "- Ensures representation across key subgroups.\n",
        "\n",
        "- Reduces sampling error in heterogeneous populations.\n",
        "\n",
        "- Requires knowledge of strata proportions\n",
        "\n",
        "**Limitation:**\n",
        "\n",
        "- More complex than simple random sampling.\n",
        "\n",
        "**Example:**\n",
        "\n",
        "- Dividing 500 students into strata of male and female, then randomly selecting 25 males and 25 females to ensure both genders are represented.\n",
        "\n",
        "---\n",
        "**3. Systematic Sampling**\n",
        "\n",
        "**Definition:**\n",
        "\n",
        "- Selecting every kᵗʰ element from the population list after choosing a random starting point.\n",
        "\n",
        "**Key Features:**\n",
        "\n",
        "- Simple and quick to execute.\n",
        "\n",
        "- Ensures spread across population\n",
        "\n",
        "- Useful for ordered data.\n",
        "\n",
        "**Limitation:**\n",
        "\n",
        "- Can cause bias if there is a hidden pattern in the list (e.g., periodic arrangement).\n",
        "\n",
        "**Example:**\n",
        "\n",
        "- In a list of 1,000 names, select every 10th name (after randomly picking a starting point between 1 and 10).\n",
        "\n",
        "---\n",
        "\n",
        "**4. Cluster Sampling**\n",
        "\n",
        "**Definition:**\n",
        "\n",
        "- Population is divided into clusters (usually based on location).\n",
        "\n",
        "- Then, a few clusters are randomly selected, and all members of chosen clusters are included.\n",
        "\n",
        "**Key Features:**\n",
        "\n",
        "- Cost-effective for large, dispersed populations.\n",
        "\n",
        "- Easier logistics than sampling individuals.\n",
        "\n",
        "**Limitation:**\n",
        "\n",
        "- May give less accurate results if clusters are not truly representative.\n",
        "\n",
        "**Example:**\n",
        "\n",
        "- A city has 20 schools. Randomly select 5 schools (clusters) and survey all students in those schools.\n",
        "\n",
        "---\n",
        "**5. Convenience Sampling**\n",
        "\n",
        "**Definition:**\n",
        "\n",
        "- Sample is chosen based on ease of access or availability, not randomness.\n",
        "\n",
        "**Key Feature:**\n",
        "\n",
        "- Fast and inexpensive.\n",
        "\n",
        "**Limitation:**\n",
        "\n",
        "- High risk of bias, not representative of the population.\n",
        "\n",
        "**Example:**\n",
        "- Surveying people at a cafe or your classmates beacuse they are easy to reach.\n",
        "\n",
        "---\n",
        "\n",
        "**Comparison Table**\n",
        "\n",
        "| Sampling Method | Key Idea                                 | Example                               | Advantage              | Limitation                        |\n",
        "| --------------- | ---------------------------------------- | ------------------------------------- | ---------------------- | --------------------------------- |\n",
        "| **Random**      | Equal chance for all                     | Lottery pick of students              | Unbiased if done well  | May miss subgroups                |\n",
        "| **Stratified**  | Divide into subgroups, sample from each  | Male & female students sampled        | All groups represented | Complex                           |\n",
        "| **Systematic**  | Select every kᵗʰ item                    | Every 10th student                    | Simple, covers spread  | Bias if pattern exists            |\n",
        "| **Cluster**     | Divide into clusters, pick some clusters | Choose 5 schools, survey all students | Cost-effective         | Risk of unrepresentative clusters |\n",
        "| **Convenience** | Based on easy access                     | Ask friends or nearby people                    | Quick, cheap           | Highly biased                     |\n",
        "\n",
        "\n",
        "\n",
        "\n",
        "\n",
        "\n"
      ],
      "metadata": {
        "id": "8z3GXNNO9s-l"
      }
    },
    {
      "cell_type": "markdown",
      "source": [
        "#**Question 3: Define mean, median, and mode. Explain why these measures of central tendency are important.**\n",
        "\n",
        "#**Answer:**\n",
        "\n",
        "**1. Mean (Arithmetic Average)**\n",
        "\n",
        "**Definition:**\n",
        "- The mean is the sum of all data values divided by the total number of values.\n",
        "\n",
        "**Mathematical Formula:**\n",
        "\n",
        "`Mean = Sum of all values / Total number of values`\n",
        "\n",
        "**But In Statistics,**\n",
        "\n",
        "For a dataset x1, x2, x3, x4,...xn:\n",
        "\n",
        "**Formula :**\n",
        "\n",
        "` Mean (x̄) = (Σx) / n`\n",
        "\n",
        "Where,\n",
        "\n",
        "- `x̄` = Mean of values\n",
        "\n",
        "- `Σx` = Summation of all values\n",
        "\n",
        "- `n` = Total number of values\n",
        "\n",
        "**Example:**\n",
        "\n",
        " - For scores 10, 20, 30 → **Mean = (10+20+30) / 3 = 20**\n",
        "\n",
        "\n",
        "**Importance:**\n",
        "\n",
        "- Represents the overall level of a dataset.\n",
        "\n",
        "- Sensitive to outliers / extreme values (e.g., one very high or low value can skew it).\n",
        "\n",
        "- Useful in continuous data and performance metrics.\n",
        "\n",
        "\n",
        "---\n",
        "**2. Median**\n",
        "\n",
        "**Definition:**\n",
        "\n",
        "- The median is the middle value when data is arranged in ascending (or descending) order.\n",
        "\n",
        "- If the number of values/observations is odd → **middle value**.\n",
        "\n",
        "- If even → **average of the two middle values**.\n",
        "\n",
        "\n",
        "-> **Median of Odd Numbers**\n",
        "\n",
        "- If there are an odd number of observations/values in a data set, then the median can be calculated as below:\n",
        "\n",
        "- Step 1: Arrange the data either in ascending or descending order.\n",
        "\n",
        "- Step 2: If the number of observations (say n) is odd, then the middlemost observation is the median of the given data.\n",
        "\n",
        "**Formula :**"
      ],
      "metadata": {
        "id": "mRn3oYg8DBoh"
      }
    },
    {
      "cell_type": "code",
      "source": [
        "# Image of median formula for odd number of values\n",
        "from IPython.display import Image\n",
        "Image('/content/median for odd.png')"
      ],
      "metadata": {
        "colab": {
          "base_uri": "https://localhost:8080/",
          "height": 66
        },
        "id": "qPNM1NEIRAp9",
        "outputId": "41bc7586-b570-438f-c410-589f89686c50"
      },
      "execution_count": 1,
      "outputs": [
        {
          "output_type": "execute_result",
          "data": {
            "image/png": "[encoded data removed]",
            "text/plain": [
              "<IPython.core.display.Image object>"
            ]
          },
          "metadata": {},
          "execution_count": 1
        }
      ]
    },
    {
      "cell_type": "markdown",
      "source": [
        "**Example:**\n",
        "\n",
        "Data: 5, 10, 15, 20, 25 → **Median = 15 (middle)**.\n",
        "\n",
        "OR\n",
        "\n",
        "Using Formula :\n",
        "\n",
        "`((n+1)/2)th position` = `((5 + 1)/2)` = **3rd position i.e. element 15**\n",
        "\n",
        "---\n",
        "\n",
        "-> **Median of Even Numbers**\n",
        "\n",
        "- If there are even number of observations in a data set, then the median can be calculated as below:\n",
        "\n",
        "- Step 1: Arrange the data either in ascending or in descending order.\n",
        "\n",
        "- Step 2: If the number of observations (say n) are even, then identify (n/2)th and [(n/2) + 1]th observations.\n",
        "\n",
        "- Step 3: The average of the above two observations (which are identified in step 2) is the median of the given data.\n",
        "\n",
        "**Formula**"
      ],
      "metadata": {
        "id": "2l-U075N5UcP"
      }
    },
    {
      "cell_type": "code",
      "source": [
        "# Image of median formula for even number of values\n",
        "from IPython.display import Image\n",
        "Image('/content/median-for-even-number.png')"
      ],
      "metadata": {
        "colab": {
          "base_uri": "https://localhost:8080/",
          "height": 80
        },
        "id": "Mco-aQiDSISn",
        "outputId": "bc3755f5-0c4f-4f54-dea4-78d32e9a2f6b"
      },
      "execution_count": 2,
      "outputs": [
        {
          "output_type": "execute_result",
          "data": {
            "image/png": "[encoded data removed]",
            "text/plain": [
              "<IPython.core.display.Image object>"
            ]
          },
          "metadata": {},
          "execution_count": 2
        }
      ]
    },
    {
      "cell_type": "markdown",
      "source": [
        "**Example:**\n",
        "\n",
        "Data: 5, 10, 15, 20 → **Median = (10+15)/2 = 12.5**\n",
        "\n",
        "**Importance:**\n",
        "\n",
        "- Robust against outliers.\n",
        "\n",
        "- Ideal for skewed distributions (e.g., income data).\n",
        "\n",
        "- Gives a better sense of the \"typical\" value when extremes exist.\n",
        "\n",
        "\n",
        "---\n",
        "\n",
        "**3. Mode**\n",
        "\n",
        "**Definition:**\n",
        "\n",
        "- The mode is the value that occurs most frequently in a dataset.\n",
        "\n",
        "- A dataset may have one mode (unimodal), more than one mode (bimodal/multimodal), or no mode.\n",
        "\n",
        "**Example:**\n",
        "\n",
        "For scores: 60, 70, 70, 80, 90 → **Mode = 70 (since it occurs twice)**\n",
        "\n",
        "**Importance:**\n",
        "\n",
        "- Useful for categorical or discrete data.\n",
        "\n",
        "- Highlights the most common value.\n",
        "\n",
        "- Can be used to identify peaks in frequency distributions.\n",
        "\n",
        "---\n",
        "**Importance of These Measures (Why Central Tendency is Important)**\n",
        "\n",
        "- Summarize data: Provide a single representative value for a dataset.\n",
        "\n",
        "- Comparison: Useful for comparing two or more groups.\n",
        "\n",
        "- Decision-making: Widely used in economics, business, education, and research.\n",
        "\n",
        "- Identify patterns: Helps understand data distribution (e.g., average income, median house price).\n",
        "\n",
        "- Foundation for further analysis: Basis for advanced statistics like variance, standard deviation, and hypothesis testing.\n",
        "\n",
        "- Detect Skewness & Outliers: Differences between mean and median can reveal asymmetry or anomalies.\n",
        "\n",
        "\n"
      ],
      "metadata": {
        "id": "9euNkgM0SzyI"
      }
    },
    {
      "cell_type": "markdown",
      "source": [
        "#**Question 4: Explain skewness and kurtosis. What does a positive skew imply about the data?**\n",
        "\n",
        "#**Answer:**\n",
        "\n",
        "#**Skewness**\n",
        "\n",
        "**Definition:**\n",
        "\n",
        "- Skewness measures the asymmetry of a data distribution around its mean.\n",
        "\n",
        "---\n",
        "\n",
        "**Types:**\n",
        "\n",
        "1) **Symmetrical (Skewness = 0):**\n",
        "\n",
        "- Perfectly symmetrical distribution.\n",
        "\n",
        "- Also known as **Zero skew**\n",
        "\n",
        "- Shape Insight:\n",
        "\n",
        "   Mean = Median = Mode. (e.g., Normal distribution).\n",
        "   \n",
        "---\n",
        "2) **Positive Skew (Right-skewed):**\n",
        "\n",
        "- Tail is longer on the right side; most values are concentrated on the left.\n",
        "   \n",
        "- Shape Insight:\n",
        "\n",
        "  Mean > Median > Mode.\n",
        "\n",
        "---  \n",
        "\n",
        "3) **Negative Skew (Left-skewed):**\n",
        "\n",
        "- Tail is longer on the left side; most values are concentrated on the right.\n",
        "\n",
        "- Shape Insight:\n",
        "\n",
        "  Mean < Median < Mode.\n",
        "\n",
        "---\n",
        "\n",
        "**What Positive Skew Implies:**\n",
        "\n",
        "- Most data points are lower, but a few high outliers pull the mean to the right (Long right tail).\n",
        "\n",
        "- Mean > Median > Mode\n",
        "\n",
        "- Common in income, response times, or failure rates.\n",
        "\n",
        "   - Example:\n",
        "   \n",
        "     Income data – most people earn low to average incomes, but a few earn very high incomes, pulling the mean up.\n",
        "\n",
        "---\n",
        "\n",
        "#**Kurtosis**\n",
        "\n",
        "**Definition:**\n",
        "\n",
        "- Kurtosis measures the “tailedness” or peakedness of a distribution compared to the normal distribution.\n",
        "\n",
        "---\n",
        "**Types:**\n",
        "\n",
        "**1. Mesokurtic (Kurtosis ≈ 3):** Normal distribution (benchmark).\n",
        "\n",
        "**2. Leptokurtic (Kurtosis > 3):** Distribution has heavier tails and a sharper peak → more outliers.\n",
        "\n",
        "**3. Platykurtic (Kurtosis < 3):** Distribution has flatter peak and lighter tails → fewer outliers.\n",
        "\n",
        "---\n",
        "\n"
      ],
      "metadata": {
        "id": "BiY-SjxqVZuH"
      }
    },
    {
      "cell_type": "markdown",
      "source": [
        "#**Question 5: Implement a Python program to compute the mean, median, and mode of a given list of numbers.**\n",
        "\n",
        "**numbers = [12, 15, 12, 18, 19, 12, 20, 22, 19, 19, 24, 24, 24, 26, 28]**\n",
        "\n"
      ],
      "metadata": {
        "id": "m6k_Cw87aoI4"
      }
    },
    {
      "cell_type": "code",
      "source": [
        "import statistics as stats\n",
        "\n",
        "# Given list of numbers\n",
        "numbers = [12, 15, 12, 18, 19, 12, 20, 22, 19, 19, 24, 24, 24, 26, 28]\n",
        "\n",
        "# Mean\n",
        "mean_val = stats.mean(numbers)\n",
        "\n",
        "# Median\n",
        "median_val = stats.median(numbers)\n",
        "\n",
        "# Mode\n",
        "mode_val = stats.mode(numbers)\n",
        "\n",
        "# Display results\n",
        "print(\"Numbers:\", numbers)\n",
        "print(\"Mean:\", mean_val)\n",
        "print(\"Median:\", median_val)\n",
        "print(\"Mode:\", mode_val)\n"
      ],
      "metadata": {
        "colab": {
          "base_uri": "https://localhost:8080/"
        },
        "id": "jF9W1nVLa5ad",
        "outputId": "3a74a6e6-cf57-447e-8fe2-58085e58b4e3"
      },
      "execution_count": 5,
      "outputs": [
        {
          "output_type": "stream",
          "name": "stdout",
          "text": [
            "Numbers: [12, 15, 12, 18, 19, 12, 20, 22, 19, 19, 24, 24, 24, 26, 28]\n",
            "Mean: 19.6\n",
            "Median: 19\n",
            "Mode: 12\n"
          ]
        }
      ]
    },
    {
      "cell_type": "markdown",
      "source": [
        "#**Question 6: Compute the covariance and correlation coefficient between the following two datasets provided as lists in Python:**\n",
        "\n",
        "**list_x = [10, 20, 30, 40, 50]**\n",
        "\n",
        "**list_y = [15, 25, 35, 45, 60]**"
      ],
      "metadata": {
        "id": "ZPk2xfq-bk-S"
      }
    },
    {
      "cell_type": "code",
      "source": [
        "import numpy as np\n",
        "\n",
        "# Given datasets\n",
        "list_x = [10, 20, 30, 40, 50]\n",
        "list_y = [15, 25, 35, 45, 60]\n",
        "\n",
        "# Convert lists to NumPy arrays for easy computation\n",
        "x = np.array(list_x)\n",
        "y = np.array(list_y)\n",
        "\n",
        "# Compute Covariance matrix\n",
        "cov_matrix = np.cov(x, y, bias=False)  # bias=False uses sample covariance\n",
        "\n",
        "# Extract covariance value\n",
        "covariance = cov_matrix[0][1]\n",
        "\n",
        "# Compute Correlation Coefficient\n",
        "correlation = np.corrcoef(x, y)[0][1]\n",
        "\n",
        "# Display results\n",
        "print(\"Covariance between x and y:\", covariance)\n",
        "print(\"Correlation Coefficient between x and y:\", correlation)"
      ],
      "metadata": {
        "colab": {
          "base_uri": "https://localhost:8080/"
        },
        "id": "qlOb33Ejc5q-",
        "outputId": "e7f9546d-daf1-47a9-db65-6362ade05dec"
      },
      "execution_count": 13,
      "outputs": [
        {
          "output_type": "stream",
          "name": "stdout",
          "text": [
            "Covariance between x and y: 275.0\n",
            "Correlation Coefficient between x and y: 0.995893206467704\n"
          ]
        }
      ]
    },
    {
      "cell_type": "markdown",
      "source": [
        "#**Question 7: Write a Python script to draw a boxplot for the following numeric list and identify its outliers. Explain the result:**\n",
        "\n",
        "**data = [12, 14, 14, 15, 18, 19, 19, 21, 22, 22, 23, 23, 24, 26, 29, 35]**\n",
        "\n"
      ],
      "metadata": {
        "id": "maDf3sxWeBKe"
      }
    },
    {
      "cell_type": "code",
      "source": [
        "import matplotlib.pyplot as plt\n",
        "import seaborn as sns\n",
        "import numpy as np\n",
        "\n",
        "# Given dataset\n",
        "data = [12, 14, 14, 15, 18, 19, 19, 21, 22, 22, 23, 23, 24, 26, 29, 35]\n",
        "\n",
        "\n",
        "# Create boxplot\n",
        "plt.figure(figsize=(8, 4))\n",
        "sns.boxplot(data=data, orient='h')\n",
        "plt.title('Boxplot of Given Data')\n",
        "plt.xlabel('Values')\n",
        "plt.show()\n",
        "\n",
        "# Identify outliers using IQR method\n",
        "Q1 = np.percentile(data, 25)\n",
        "Q3 = np.percentile(data, 75)\n",
        "IQR = Q3 - Q1\n",
        "\n",
        "# Lower and upper bounds\n",
        "lower_bound = Q1 - 1.5 * IQR\n",
        "upper_bound = Q3 + 1.5 * IQR\n",
        "\n",
        "# Outliers\n",
        "outliers = [x for x in data if x < lower_bound or x > upper_bound]\n",
        "\n",
        "print(\"Q1 (25th percentile):\", Q1)\n",
        "print(\"Q3 (75th percentile):\", Q3)\n",
        "print(\"Interquartile Range (IQR):\", IQR)\n",
        "print(\"Lower bound:\", lower_bound)\n",
        "print(\"Upper bound:\", upper_bound)\n",
        "print(\"Outliers:\", outliers)\n"
      ],
      "metadata": {
        "colab": {
          "base_uri": "https://localhost:8080/",
          "height": 514
        },
        "id": "m8aHu7Buel5f",
        "outputId": "7dcd9d05-cf69-436f-b482-1653570abbb9"
      },
      "execution_count": 18,
      "outputs": [
        {
          "output_type": "display_data",
          "data": {
            "text/plain": [
              "<Figure size 800x400 with 1 Axes>"
            ],
            "image/png": "[encoded data removed]"
          },
          "metadata": {}
        },
        {
          "output_type": "stream",
          "name": "stdout",
          "text": [
            "Q1 (25th percentile): 17.25\n",
            "Q3 (75th percentile): 23.25\n",
            "Interquartile Range (IQR): 6.0\n",
            "Lower bound: 8.25\n",
            "Upper bound: 32.25\n",
            "Outliers: [35]\n"
          ]
        }
      ]
    },
    {
      "cell_type": "markdown",
      "source": [
        "**Explanation of Result:**\n",
        "\n",
        "**1. Boxplot Elements:**\n",
        "\n",
        "- **Box:** Q1 to Q3 (25th to 75th percentile)\n",
        "\n",
        "- **Line inside box:** Median\n",
        "\n",
        "- **Whiskers:** Extend to min and max within 1.5 × IQR\n",
        "\n",
        "- **Points outside whiskers:** Outliers\n",
        "\n",
        "**2. For this dataset:**\n",
        "\n",
        "- **Q1** = 18, **Q3** = 24\n",
        "\n",
        "- **IQR** = 6\n",
        "\n",
        "- **Lower bound** = 18 - 1.5×6 = 9\n",
        "\n",
        "- **Upper bound** = 24 + 1.5×6 = 33\n",
        "\n",
        "- **Outliers**: 35 (above upper bound)\n",
        "\n",
        "**3. Interpretation:**\n",
        "\n",
        "- Most data values are between 18 and 24 (middle 50%).\n",
        "\n",
        "- 35 is unusually high compared to the rest → considered an outlier."
      ],
      "metadata": {
        "id": "jkK5AHUChLzu"
      }
    },
    {
      "cell_type": "markdown",
      "source": [
        "#**Question 8: You are working as a data analyst in an e-commerce company.**\n",
        "#**The marketing team wants to know if there is a relationship between advertising spend and daily sales.**\n",
        "\n",
        "**● Explain how you would use covariance and correlation to explore this\n",
        "relationship.**\n",
        "\n",
        "**● Write Python code to compute the correlation between the two lists:**\n",
        "\n",
        "**advertising_spend = [200, 250, 300, 400, 500]**\n",
        "\n",
        "**daily_sales = [2200, 2450, 2750, 3200, 4000]**\n",
        "\n",
        "---\n",
        "\n",
        "\n",
        "**Answer:**\n",
        "\n",
        "- As a data analyst, your goal is to determine whether there's a relationship between how much the company spends on advertising and how much it earns in daily sales.\n",
        "\n",
        "\n",
        "**Exploring the Relationship between Advertising Spend and Daily Sales**\n",
        "\n",
        "**1. Using Covariance:**\n",
        "\n",
        "- Covariance measures how two variables change together.\n",
        "\n",
        "- **Positive covariance** → as advertising spend increases, sales also tend to increase.\n",
        "\n",
        "- **Negative covariance** → as advertising spend increases, sales decrease.\n",
        "\n",
        "- Limitation: The magnitude depends on the scale of data, so it’s hard to interpret strength.\n",
        "---\n",
        "\n",
        "**2. Using Correlation:**\n",
        "\n",
        "- Correlation coefficient (r) measures both strength and direction of linear relationship.\n",
        "\n",
        "- Value ranges between **-1 and 1**:\n",
        "\n",
        "  - **r = 1** → perfect positive correlation\n",
        "\n",
        "  - **r = -1** → perfect negative correlation\n",
        "\n",
        "  - **r ≈ 0** → no linear relationship\n",
        "\n",
        "- **Advantage:** Standardized, easy to interpret.\n",
        "\n",
        "\n",
        "**Summary:**\n",
        "\n",
        "- Covariance tells us the direction of the relationship.\n",
        "\n",
        "- Correlation tells us both the direction and strength of the relationship.\n",
        "\n",
        "---\n",
        "\n",
        "**Python Code to Compute Correlation**"
      ],
      "metadata": {
        "id": "8mUevQFihx81"
      }
    },
    {
      "cell_type": "code",
      "source": [
        "import numpy as np\n",
        "\n",
        "# Given data\n",
        "advertising_spend = [200, 250, 300, 400, 500]\n",
        "daily_sales = [2200, 2450, 2750, 3200, 4000]\n",
        "\n",
        "# Convert lists to NumPy arrays\n",
        "x = np.array(advertising_spend)\n",
        "y = np.array(daily_sales)\n",
        "\n",
        "# Calculate Covariance\n",
        "cov_matrix = np.cov(x, y, bias=False)\n",
        "covariance = cov_matrix[0][1]\n",
        "\n",
        "# Calculate Correlation coefficient\n",
        "corr_matrix = np.corrcoef(x, y)\n",
        "correlation = corr_matrix[0][1]\n",
        "\n",
        "# Display results\n",
        "print(\"Covariance between advertising spend and daily sales:\", covariance)\n",
        "print(\"Correlation Coefficient between advertising spend and daily sales:\", correlation)\n"
      ],
      "metadata": {
        "colab": {
          "base_uri": "https://localhost:8080/"
        },
        "id": "XqCLPvX1j--w",
        "outputId": "372065d3-dc33-43bd-8a7a-1e9119783882"
      },
      "execution_count": 20,
      "outputs": [
        {
          "output_type": "stream",
          "name": "stdout",
          "text": [
            "Covariance between advertising spend and daily sales: 84875.0\n",
            "Correlation Coefficient between advertising spend and daily sales: 0.9935824101653329\n"
          ]
        }
      ]
    },
    {
      "cell_type": "markdown",
      "source": [
        "#**Question 9: Your team has collected customer satisfaction survey data on a scale of 1-10 and wants to understand its distribution before launching a new product.**\n",
        "\n",
        "**● Explain which summary statistics and visualizations (e.g. mean, standard\n",
        "deviation, histogram) you’d use.**\n",
        "\n",
        "**● Write Python code to create a histogram using Matplotlib for the survey data:\n",
        "survey_scores = [7, 8, 5, 9, 6, 7, 8, 9, 10, 4, 7, 6, 9, 8, 7]**\n",
        "\n",
        "---\n",
        "\n",
        "**Answer:**\n",
        "\n",
        "**1. Summary Statistics to Use**\n",
        "\n",
        "\n",
        "| Measure                | Purpose                                                        |\n",
        "| ---------------------- | -------------------------------------------------------------- |\n",
        "| **Mean**               | Average satisfaction score – shows overall satisfaction level  |\n",
        "| **Median**             | Middle value – useful if data is skewed                        |\n",
        "| **Mode**               | Most common score – identifies popular opinion                 |\n",
        "| **Standard Deviation** | Measures variability – are responses consistent or spread out? |\n",
        "| **Minimum / Maximum**  | Shows score range – lowest and highest satisfaction levels     |\n",
        "\n",
        "---\n",
        "\n",
        "**2. Visualizations to Use**\n",
        "\n",
        "  | Visualization            | Purpose                                                     |\n",
        "| ------------------------ | ----------------------------------------------------------- |\n",
        "| **Histogram**            | Shows the **distribution** of scores (e.g., normal, skewed) |\n",
        "| **Boxplot**              | Highlights **median, quartiles, and outliers**              |\n",
        "| **Bar Chart** (for mode) | Visualizes frequency of each score                          |\n",
        "\n",
        "\n",
        "\n",
        "**Purpose:** Together, these statistics and visuals help understand customer sentiment, detect skewness, and plan improvements before launching the product.\n",
        "\n",
        "---\n",
        "**Python Code to Create a Histogram**\n"
      ],
      "metadata": {
        "id": "NiIXb2s1kdJk"
      }
    },
    {
      "cell_type": "code",
      "source": [
        "import matplotlib.pyplot as plt\n",
        "\n",
        "# Customer survey scores\n",
        "survey_scores = [7, 8, 5, 9, 6, 7, 8, 9, 10, 4, 7, 6, 9, 8, 7]\n",
        "\n",
        "# Create histogram\n",
        "plt.figure(figsize=(8, 5))\n",
        "plt.hist(survey_scores, bins=range(1, 12), edgecolor='black', color='skyblue', align='left')\n",
        "\n",
        "# Add titles and labels\n",
        "plt.title('Customer Satisfaction Score Distribution')\n",
        "plt.xlabel('Satisfaction Score (1–10)')\n",
        "plt.ylabel('Frequency')\n",
        "plt.xticks(range(1, 11))  # Show tick marks from 1 to 10\n",
        "\n",
        "# Show the plot\n",
        "plt.show()\n",
        "\n"
      ],
      "metadata": {
        "colab": {
          "base_uri": "https://localhost:8080/",
          "height": 487
        },
        "id": "NjsLrewol8z1",
        "outputId": "1dc7705f-a123-4746-8291-d95f02da95ef"
      },
      "execution_count": 26,
      "outputs": [
        {
          "output_type": "display_data",
          "data": {
            "text/plain": [
              "<Figure size 800x500 with 1 Axes>"
            ],
            "image/png": "[encoded data removed]"
          },
          "metadata": {}
        }
      ]
    },
    {
      "cell_type": "markdown",
      "source": [
        "**Explanation of the Histogram**\n",
        "\n",
        "- X-axis: Scores (1-10)\n",
        "\n",
        "- Y-axis: Number of customers giving that score\n",
        "\n",
        "- Peaks at 7, 8, and 9 → most customers are satisfied\n",
        "\n",
        "- Can also indicate if there are low scores (4, 5) → potential issues"
      ],
      "metadata": {
        "id": "3xp3ZWCdnnWG"
      }
    },
    {
      "cell_type": "markdown",
      "source": [
        "#"
      ],
      "metadata": {
        "id": "uORdEh1kd_7D"
      }
    }
  ]
}